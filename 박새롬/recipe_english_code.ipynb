{
 "cells": [
  {
   "cell_type": "code",
   "execution_count": null,
   "id": "e5c86298",
   "metadata": {},
   "outputs": [],
   "source": [
    "import json\n",
    "\n",
    "with open('layer1.json', 'r') as f:\n",
    "    json_data = json.load(f)"
   ]
  },
  {
   "cell_type": "code",
   "execution_count": null,
   "id": "39ea25bc",
   "metadata": {},
   "outputs": [],
   "source": [
    "json_data"
   ]
  },
  {
   "cell_type": "code",
   "execution_count": null,
   "id": "daaf1e5d",
   "metadata": {},
   "outputs": [],
   "source": [
    "Ingredients = []\n",
    "url = []\n",
    "partition = []\n",
    "title = []\n",
    "Instructions = []"
   ]
  },
  {
   "cell_type": "code",
   "execution_count": null,
   "id": "aa491f35",
   "metadata": {},
   "outputs": [],
   "source": [
    "# =============================================================\n",
    "# 레시피 url, train/test 구분자, 레시피 제목, 레시피 재료, 레시피 순서\n",
    "# 뽑아오기\n",
    "# =============================================================\n",
    "\n",
    "for i in range(len(json_data)):\n",
    "    url.append(json_data[i][\"url\"])\n",
    "    partition.append(json_data[i][\"partition\"])\n",
    "    title.append(json_data[i][\"title\"])\n",
    "    \n",
    "    ingredients = []\n",
    "    instructions = []\n",
    "    for j in range(len(json_data[i]['ingredients'])):\n",
    "        ingredients.extend(list(json_data[i]['ingredients'][j].values()))\n",
    "    Ingredients.append(ingredients)\n",
    "        \n",
    "    \n",
    "    for k in range(len(json_data[i]['instructions'])):\n",
    "        instructions.extend(list(json_data[i][\"instructions\"][k].values()))\n",
    "    Instructions.append(instructions)"
   ]
  },
  {
   "cell_type": "code",
   "execution_count": null,
   "id": "f5e6a814",
   "metadata": {},
   "outputs": [],
   "source": [
    "# 데이터 프레임 생성\n",
    "\n",
    "import pandas as pd\n",
    "df = pd.DataFrame({\"Ingredients\": Ingredients,\n",
    "                  \"URL\": url,\n",
    "                  \"Partition\": partition,\n",
    "                  \"Title\": title,\n",
    "                  \"Instructions\": Instructions})"
   ]
  },
  {
   "cell_type": "code",
   "execution_count": null,
   "id": "7687e6f6",
   "metadata": {},
   "outputs": [],
   "source": [
    "df"
   ]
  },
  {
   "cell_type": "code",
   "execution_count": null,
   "id": "be48c00a",
   "metadata": {},
   "outputs": [],
   "source": [
    "df.to_csv('recipe_english.csv')"
   ]
  },
  {
   "cell_type": "code",
   "execution_count": null,
   "id": "9042166c",
   "metadata": {},
   "outputs": [],
   "source": [
    "# csv 확인 코드\n",
    "# english = pd.read_csv('english_recipe.csv', index_col=0)\n",
    "# english"
   ]
  },
  {
   "cell_type": "code",
   "execution_count": null,
   "id": "c332424c",
   "metadata": {},
   "outputs": [],
   "source": []
  }
 ],
 "metadata": {
  "kernelspec": {
   "display_name": "Python 3 (ipykernel)",
   "language": "python",
   "name": "python3"
  },
  "language_info": {
   "codemirror_mode": {
    "name": "ipython",
    "version": 3
   },
   "file_extension": ".py",
   "mimetype": "text/x-python",
   "name": "python",
   "nbconvert_exporter": "python",
   "pygments_lexer": "ipython3",
   "version": "3.9.7"
  }
 },
 "nbformat": 4,
 "nbformat_minor": 5
}
