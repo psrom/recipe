{
  "nbformat": 4,
  "nbformat_minor": 0,
  "metadata": {
    "colab": {
      "name": "만개의레시피_크롤링_찐최종.ipynb",
      "provenance": []
    },
    "kernelspec": {
      "name": "python3",
      "display_name": "Python 3"
    },
    "language_info": {
      "name": "python"
    }
  },
  "cells": [
    {
      "cell_type": "code",
      "execution_count": null,
      "metadata": {
        "id": "BLazmqaeJRFN"
      },
      "outputs": [],
      "source": [
        "import requests\n",
        "from bs4 import BeautifulSoup\n",
        "import time\n",
        "import pandas as pd"
      ]
    },
    {
      "cell_type": "code",
      "source": [
        "PATH = '/content/drive/MyDrive/교육/파이널 프로젝트/데이터수집/'"
      ],
      "metadata": {
        "id": "G5XAguUWJati"
      },
      "execution_count": null,
      "outputs": []
    },
    {
      "cell_type": "markdown",
      "source": [
        "# URL, 조회수 불러오기"
      ],
      "metadata": {
        "id": "GWpZHXMXJbSJ"
      }
    },
    {
      "cell_type": "code",
      "source": [
        "url_list_df = pd.read_csv(PATH + 'url.csv')"
      ],
      "metadata": {
        "id": "FoeIK3OhJaq5"
      },
      "execution_count": null,
      "outputs": []
    },
    {
      "cell_type": "code",
      "source": [
        "url_list=[]\n",
        "for i in url_list_df['0']:\n",
        "  url_list.append(i)\n",
        "\n",
        "url_list"
      ],
      "metadata": {
        "id": "pOv50yLZJaoe"
      },
      "execution_count": null,
      "outputs": []
    },
    {
      "cell_type": "code",
      "source": [
        "views_list_df = pd.read_csv(PATH + 'views.csv')"
      ],
      "metadata": {
        "id": "1hwmnretJalg"
      },
      "execution_count": null,
      "outputs": []
    },
    {
      "cell_type": "code",
      "source": [
        "views_list=[]\n",
        "for i in views_list_df['0']:\n",
        "  views_list.append(i)\n",
        "\n",
        "views_list"
      ],
      "metadata": {
        "id": "oCNmq_9_JajB"
      },
      "execution_count": null,
      "outputs": []
    },
    {
      "cell_type": "markdown",
      "source": [
        "### 5000개씩 url을 나눠서 아래와 같은 과정을 36번 반복한다 😯"
      ],
      "metadata": {
        "id": "gfBDoN4OJnSg"
      }
    },
    {
      "cell_type": "markdown",
      "source": [
        "# 크롤링 {n}"
      ],
      "metadata": {
        "id": "w14AnDprJtpj"
      }
    },
    {
      "cell_type": "code",
      "source": [
        "url_list2 = []\n",
        "views_list2 = []"
      ],
      "metadata": {
        "id": "rSGU1I2MJjPJ"
      },
      "execution_count": null,
      "outputs": []
    },
    {
      "cell_type": "code",
      "source": [
        "title = []\n",
        "ingredients = []\n",
        "peoples = []\n",
        "times=[]\n",
        "levels=[]"
      ],
      "metadata": {
        "id": "P_MHsYrtJjMn"
      },
      "execution_count": null,
      "outputs": []
    },
    {
      "cell_type": "code",
      "source": [
        "#유효하지 않는 url, 조회수 삭제하기 위해 try except\n",
        "for y in url_list[:5000]:\n",
        "  try:\n",
        "    print(url_list.index(y))\n",
        "    resp = requests.get(y)\n",
        "    soup = BeautifulSoup(resp.content, 'html.parser')\n",
        "    \n",
        "\n",
        "    \n",
        "    #제목\n",
        "    title_lst = soup.find('h3').get_text()\n",
        "    try:\n",
        "      title.append(title_lst)\n",
        "      #print(title_lst)\n",
        "    except AttributeError:\n",
        "      title.append('@')\n",
        "      #print('제목없음')\n",
        "\n",
        "    #재료\n",
        "    try:\n",
        "      ing_list = soup.find('div', class_ = \"ready_ingre3\")\n",
        "      li_tags = ing_list.find_all('li')\n",
        "\n",
        "      temp_ing_list =[]\n",
        "      for ing_tag in li_tags:\n",
        "          temp_ing_list.append(\":\".join(ing_tag.text.split()))\n",
        "      ing = \"|\".join(temp_ing_list)\n",
        "      ingredients.append(ing)\n",
        "      #print(ing)        \n",
        "    except AttributeError:\n",
        "        ingredients.append('@') #재료 없는것은 이렇게 처리\n",
        "        #print('재료없음')\n",
        "\n",
        "    #인분, 조리시간, 난이도\n",
        "    try:\n",
        "        info_list = soup.find('div', class_ = 'view2_summary_info')\n",
        "        #인분\n",
        "        try:\n",
        "            peop_list = soup.find('span', class_ = 'view2_summary_info1').get_text()\n",
        "            peoples.append(','.join(peop_list.split()))\n",
        "            #print(peop_list)\n",
        "        except AttributeError:\n",
        "            peoples.append('@')\n",
        "            #print('인분정보없음')\n",
        "\n",
        "    #조리시간 \n",
        "        try:\n",
        "            time_list = soup.find('span', class_ = 'view2_summary_info2').get_text()\n",
        "            times.append(time_list)\n",
        "            #print(time_list)\n",
        "        except AttributeError:\n",
        "            times.append('@')\n",
        "            #print('조리시간정보없음')\n",
        "\n",
        "    #난이도\n",
        "        try:\n",
        "            level_list = soup.find('span', class_ = 'view2_summary_info3').get_text()\n",
        "            levels.append(level_list)\n",
        "            #print(level_list)\n",
        "        except AttributeError:\n",
        "            levels.append('@')\n",
        "            #print('난이도정보없음')\n",
        "\n",
        "    except:\n",
        "      #peoples.append('@')\n",
        "      #times.append('@')\n",
        "      levels.append('@')  #왜인지는 모르겠다...\n",
        "      #print('info없음')\n",
        "\n",
        "    #유효한 url\n",
        "    url_list2.append(y)\n",
        "\n",
        "    #유효한 url의 view\n",
        "    a = url_list.index(y)\n",
        "    views_list2.append(views_list[a])\n",
        "    \n",
        "  except AttributeError:\n",
        "    pass"
      ],
      "metadata": {
        "id": "idWRD2n0JjKL"
      },
      "execution_count": null,
      "outputs": []
    },
    {
      "cell_type": "markdown",
      "source": [
        "## 수집된 데이터 정리"
      ],
      "metadata": {
        "id": "i-BnZqZhJz9a"
      }
    },
    {
      "cell_type": "code",
      "source": [
        "#길이가 모두 일치해야 한다\n",
        "print(len(title))\n",
        "print(len(views_list2))\n",
        "print(len(ingredients))\n",
        "print(len(peoples))\n",
        "print(len(times))\n",
        "print(len(levels))\n",
        "print(len(url_list2))"
      ],
      "metadata": {
        "id": "nVaawuLMJjHX"
      },
      "execution_count": null,
      "outputs": []
    },
    {
      "cell_type": "markdown",
      "source": [
        "- {}에 해당 크롤링 번호 넣기"
      ],
      "metadata": {
        "id": "_z_LY36rKLfz"
      }
    },
    {
      "cell_type": "code",
      "source": [
        "man_recipe{} = []\n",
        "#[title, views_list2, ingredients, peoples, times, levels, url_list2]\n",
        "df{} = pd.DataFrame(man_recipe{})"
      ],
      "metadata": {
        "id": "Vwlx5yeJJ_S4"
      },
      "execution_count": null,
      "outputs": []
    },
    {
      "cell_type": "code",
      "source": [
        "df{}['title'] = title\n",
        "df{}['views'] = views_list2\n",
        "df{}['ingredients'] = ingredients\n",
        "df{}['peoples'] = peoples\n",
        "df{}['times'] = times\n",
        "df{}['levels'] = levels\n",
        "df{}['url'] = url_list2"
      ],
      "metadata": {
        "id": "8Q3fsCjuJ_P9"
      },
      "execution_count": null,
      "outputs": []
    },
    {
      "cell_type": "code",
      "source": [
        "df{}"
      ],
      "metadata": {
        "id": "jFw3h6OwJ_NO"
      },
      "execution_count": null,
      "outputs": []
    },
    {
      "cell_type": "code",
      "source": [
        "df{}.to_csv(PATH + 'df{}.csv', encoding = 'utf-8-sig')"
      ],
      "metadata": {
        "id": "k7OMun6UKFiE"
      },
      "execution_count": null,
      "outputs": []
    }
  ]
}